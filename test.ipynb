from pandasai import SmartDataframe
from pandasai.llm.local_llm import LocalLLM

ollama_llm = LocalLLM(api_base="http://localhost:11434/v1", model="llama3")
df = SmartDataframe("population.csv", config={"llm": ollama_llm})
