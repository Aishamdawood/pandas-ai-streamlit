{
 "cells": [
  {
   "cell_type": "code",
   "execution_count": 14,
   "metadata": {},
   "outputs": [],
   "source": [
    "from pandasai import SmartDataframe\n"
   ]
  },
  {
   "cell_type": "code",
   "execution_count": 15,
   "metadata": {},
   "outputs": [],
   "source": [
    "import pandas as pd"
   ]
  },
  {
   "cell_type": "code",
   "execution_count": 16,
   "metadata": {},
   "outputs": [],
   "source": [
    "df = pd.DataFrame({\n",
    "    \"country\": [\n",
    "        \"United States\",\n",
    "        \"United Kingdom\",\n",
    "        \"France\",\n",
    "        \"Germany\",\n",
    "        \"Italy\",\n",
    "        \"Spain\",\n",
    "        \"Canada\",\n",
    "        \"Australia\",\n",
    "        \"Japan\",\n",
    "        \"China\",\n",
    "    ],\n",
    "    \"gdp\": [\n",
    "        19294482071552,\n",
    "        2891615567872,\n",
    "        2411255037952,\n",
    "        3435817336832,\n",
    "        1745433788416,\n",
    "        1181205135360,\n",
    "        1607402389504,\n",
    "        1490967855104,\n",
    "        4380756541440,\n",
    "        14631844184064,\n",
    "    ],\n",
    "    \"happiness_index\": [6.94, 7.16, 6.66, 7.07, 6.38, 6.4, 7.23, 7.22, 5.87, 5.12],\n",
    "})"
   ]
  },
  {
   "cell_type": "code",
   "execution_count": 17,
   "metadata": {},
   "outputs": [],
   "source": [
    "import os\n",
    "\n",
    "os.environ['PANDASAI_API_KEY'] = \"$2a$10$3lpg.RW0lsf63jzOdLm4XugvVLNAo.RKoCahPytqnpLS8Sk5e74ui\""
   ]
  },
  {
   "cell_type": "code",
   "execution_count": 18,
   "metadata": {},
   "outputs": [],
   "source": [
    "sdf = SmartDataframe(df)"
   ]
  },
  {
   "cell_type": "code",
   "execution_count": 19,
   "metadata": {},
   "outputs": [
    {
     "name": "stderr",
     "output_type": "stream",
     "text": [
      "Traceback (most recent call last):\n",
      "  File \"/home/codespace/.python/current/lib/python3.10/site-packages/pandasai/pipelines/chat/generate_chat_pipeline.py\", line 307, in run\n",
      "  File \"/home/codespace/.python/current/lib/python3.10/site-packages/pandasai/pipelines/pipeline.py\", line 137, in run\n",
      "  File \"/home/codespace/.python/current/lib/python3.10/site-packages/pandasai/pipelines/pipeline.py\", line 101, in run\n",
      "  File \"/home/codespace/.python/current/lib/python3.10/site-packages/pandasai/pipelines/chat/prompt_generation.py\", line 36, in execute\n",
      "  File \"/home/codespace/.python/current/lib/python3.10/site-packages/pandasai/pipelines/chat/prompt_generation.py\", line 62, in get_chat_prompt\n",
      "  File \"/home/codespace/.python/current/lib/python3.10/site-packages/pandasai/prompts/base.py\", line 33, in __init__\n",
      "  File \"/home/codespace/.local/lib/python3.10/site-packages/jinja2/environment.py\", line 1013, in get_template\n",
      "    return self._load_template(name, globals)\n",
      "  File \"/home/codespace/.local/lib/python3.10/site-packages/jinja2/environment.py\", line 972, in _load_template\n",
      "    template = self.loader.load(self, name, self.make_globals(globals))\n",
      "  File \"/home/codespace/.local/lib/python3.10/site-packages/jinja2/loaders.py\", line 126, in load\n",
      "    source, filename, uptodate = self.get_source(environment, name)\n",
      "  File \"/home/codespace/.local/lib/python3.10/site-packages/jinja2/loaders.py\", line 207, in get_source\n",
      "    raise TemplateNotFound(template)\n",
      "jinja2.exceptions.TemplateNotFound: generate_python_code.tmpl\n"
     ]
    },
    {
     "data": {
      "text/plain": [
       "'Unfortunately, I was not able to answer your question, because of the following error:\\n\\ngenerate_python_code.tmpl\\n'"
      ]
     },
     "execution_count": 19,
     "metadata": {},
     "output_type": "execute_result"
    }
   ],
   "source": [
    "sdf.chat(\"draw Return the top 5 countries by GDP\")"
   ]
  },
  {
   "cell_type": "code",
   "execution_count": null,
   "metadata": {},
   "outputs": [],
   "source": []
  }
 ],
 "metadata": {
  "kernelspec": {
   "display_name": "Python 3",
   "language": "python",
   "name": "python3"
  },
  "language_info": {
   "codemirror_mode": {
    "name": "ipython",
    "version": 3
   },
   "file_extension": ".py",
   "mimetype": "text/x-python",
   "name": "python",
   "nbconvert_exporter": "python",
   "pygments_lexer": "ipython3",
   "version": "3.10.13"
  }
 },
 "nbformat": 4,
 "nbformat_minor": 2
}
